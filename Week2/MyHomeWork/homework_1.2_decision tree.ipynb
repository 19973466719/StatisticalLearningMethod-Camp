{
 "cells": [
  {
   "cell_type": "markdown",
   "metadata": {},
   "source": [
    "# 决策树\n",
    "\n",
    "- ID3（基于信息增益）\n",
    "- C4.5（基于信息增益比）\n",
    "- CART（gini指数）"
   ]
  },
  {
   "cell_type": "markdown",
   "metadata": {},
   "source": [
    "#### entropy：$H(x) = -\\sum_{i=1}^{n}p_i\\log{p_i}$\n",
    "\n",
    "#### conditional entropy: $H(X|Y)=\\sum{P(X|Y)}\\log{P(X|Y)}$\n",
    "\n",
    "#### information gain : $g(D, A)=H(D)-H(D|A)$\n",
    "\n",
    "#### information gain ratio: $g_R(D, A) = \\frac{g(D,A)}{H(A)}$\n",
    "\n",
    "#### gini index:$Gini(D)=\\sum_{k=1}^{K}p_k\\log{p_k}=1-\\sum_{k=1}^{K}p_k^2$"
   ]
  },
  {
   "cell_type": "code",
   "execution_count": 1,
   "metadata": {},
   "outputs": [],
   "source": [
    "import numpy as np\n",
    "import pandas as pd\n",
    "from collections import Counter\n",
    "import math"
   ]
  },
  {
   "cell_type": "markdown",
   "metadata": {},
   "source": [
    "## 节点类"
   ]
  },
  {
   "cell_type": "code",
   "execution_count": 2,
   "metadata": {},
   "outputs": [],
   "source": [
    "class Node:\n",
    "    def __init__(self, x=None, label=None, y=None, data=None):\n",
    "        # 特征值序号\n",
    "        self.label = label   \n",
    "        # x为特征值的类别值\n",
    "        self.x = x\n",
    "        # 子节点\n",
    "        self.child = []    \n",
    "        # 分类类别\n",
    "        self.y = y\n",
    "        # 分类类别数据\n",
    "        self.data = data   \n",
    "    \n",
    "    # 添加子节点\n",
    "    def append(self, node):  \n",
    "        self.child.append(node)\n",
    "\n",
    "    # 根据决策树进行预测\n",
    "    def predict(self, features): \n",
    "        if self.y is not None:\n",
    "            # 返回预测结果\n",
    "            return self.y\n",
    "        # 对子节点进行遍历\n",
    "        for c in self.child:\n",
    "            # 特征值x为待预测数据的特征值\n",
    "            if c.x == features[self.label]:\n",
    "                return c.predict(features)"
   ]
  },
  {
   "cell_type": "markdown",
   "metadata": {},
   "source": [
    "## 节点打印函数"
   ]
  },
  {
   "cell_type": "code",
   "execution_count": 3,
   "metadata": {},
   "outputs": [],
   "source": [
    "def printnode(node, depth=0):  \n",
    "    if node.label is None:\n",
    "        print(depth, (node.label, node.x, node.y, len(node.data)))\n",
    "    else:\n",
    "        print(depth, (node.label, node.x))\n",
    "        for c in node.child:\n",
    "            printnode(c, depth+1)"
   ]
  },
  {
   "cell_type": "code",
   "execution_count": 4,
   "metadata": {},
   "outputs": [],
   "source": [
    "class DTree:\n",
    "    def __init__(self, epsilon=0, alpha=0): \n",
    "        # 阈值\n",
    "        self.epsilon = epsilon\n",
    "        # alpha值\n",
    "        self.alpha = alpha\n",
    "        # 初始化为单节点树\n",
    "        self.tree = Node()\n",
    "    \n",
    "    # 计算概率值\n",
    "    def prob(self, datasets): \n",
    "        # 得到数据集的样本总数\n",
    "        datalen = len(datasets)\n",
    "        # 得到样本的分类类别数\n",
    "        labelx = set(datasets)\n",
    "        # 初始化频值\n",
    "        p = {l: 0 for l in labelx}\n",
    "        # 统计各个频值数\n",
    "        for d in datasets:\n",
    "            p[d] += 1\n",
    "        # 得到每个类别的概率值\n",
    "        for i in p.items():\n",
    "            p[i[0]] /= datalen\n",
    "        return p\n",
    "    \n",
    "    # 计算熵\n",
    "    def calc_ent(self, datasets): \n",
    "        p = self.prob(datasets)\n",
    "        ent = sum([-v * math.log(v, 2) for v in p.values()])\n",
    "        return ent\n",
    "\n",
    "    # 计算经验条件熵\n",
    "    def cond_ent(self, datasets, col):  \n",
    "        # 取出第col行的数据（即取出第几个特征值对应的行数据）\n",
    "        labelx = set(datasets.iloc[col])\n",
    "        # 初始化特征值对应的频值字典\n",
    "        p = {x: [] for x in labelx}\n",
    "        # 对i(第i条数据)，d(分类类别)迭代\n",
    "        # 统计特征值下的各个类别的标签分类\n",
    "        for i, d in enumerate(datasets.iloc[-1]):\n",
    "            p[datasets.iloc[col][i]].append(d)\n",
    "        # 计算经验条件熵\n",
    "        return sum([self.prob(datasets.iloc[col])[k] * self.calc_ent(p[k]) for k in p.keys()])\n",
    "\n",
    "    def info_gain_train(self, datasets, datalabels):\n",
    "        # 将数据集转置，即特征值是表的RowName，数据集是0-14列\n",
    "        datasets = datasets.T\n",
    "        # iloc[num]：通过行号来取行数据\n",
    "        # 取最后一行数据（即类别行）计算经验熵\n",
    "        ent = self.calc_ent(datasets.iloc[-1])\n",
    "        # 初始化信息增益字典\n",
    "        gainmax = {}\n",
    "        # 计算信息增益，并将信息增值作为字典的key，而value为数据序号\n",
    "        # len(datasets) - 1 除去分类列\n",
    "        for i in range(len(datasets) - 1):\n",
    "            cond = self.cond_ent(datasets, i)\n",
    "            gainmax[ent - cond] = i\n",
    "        # 取最大信息增益\n",
    "        m = max(gainmax.keys())\n",
    "        # gainmax[m]：最大信息增益对应的特征值序号，m：信息增益\n",
    "        return gainmax[m], m\n",
    "\n",
    "    # 训练函数（节点划分函数）\n",
    "    # datasets：数据集，node：节点树\n",
    "    def train(self, datasets, node):\n",
    "        # 取标签列\n",
    "        labely = datasets.columns[-1]\n",
    "        # value_counts() 以Series形式返回指定列的不同取值的频率\n",
    "        # 如果都为同一标签分类的数据\n",
    "        if len(datasets[labely].value_counts()) == 1:\n",
    "            # 该子节点的数据集为该分类列的数据\n",
    "            node.data = datasets[labely]\n",
    "            # y为标签分类类别\n",
    "            node.y = datasets[labely][0]\n",
    "            return\n",
    "        # 如果没有了需要分类的特征值\n",
    "        if len(datasets.columns[:-1]) == 0:\n",
    "            # 该节点的数据集为该分类列的数据\n",
    "            node.data = datasets[labely]\n",
    "            # y为该标签分类的类别\n",
    "            node.y = datasets[labely].value_counts().index[0]\n",
    "            return\n",
    "        \n",
    "        # 得到gainmaxi：最优的特征，gainmax：最大信息增益\n",
    "        gainmaxi, gainmax = self.info_gain_train(datasets, datasets.columns)\n",
    "        # 小于阈值，不需要再划分了\n",
    "        if gainmax <= self.epsilon: \n",
    "            node.data = datasets[labely]\n",
    "            node.y = datasets[labely].value_counts().index[0]\n",
    "            return\n",
    "        \n",
    "        # 最优特征下的类别频值\n",
    "        vc = datasets[datasets.columns[gainmaxi]].value_counts()\n",
    "        # 对类别频值进行遍历\n",
    "        for Di in vc.index:\n",
    "            # label赋值为最优特征值序号\n",
    "            node.label = gainmaxi\n",
    "            # 创建类别子节点，x为类别值\n",
    "            child = Node(Di)\n",
    "            # 添加子节点列表到类别节点\n",
    "            node.append(child)\n",
    "            # 得到该特征值下为Di类别的数据集\n",
    "            new_datasets = pd.DataFrame([list(i) for i in datasets.values if i[gainmaxi]==Di], columns=datasets.columns)\n",
    "            # 对数据集进行再分类\n",
    "            self.train(new_datasets, child)\n",
    "    \n",
    "    # 匹配函数\n",
    "    def fit(self, datasets):\n",
    "        self.train(datasets, self.tree)\n",
    "    \n",
    "    # 得到所有的叶子节点集合\n",
    "    def findleaf(self, node, leaf): \n",
    "        # 对该节点下的子节点进行遍历\n",
    "        for t in node.child:\n",
    "            # 判断分类值是否为空，如果为空，则表示这是一个特征，如果不为空，则表示这是一个叶子节点\n",
    "            if t.y is not None:\n",
    "                # 添加数据到叶子节点集合中\n",
    "                leaf.append(t.data)\n",
    "            else:\n",
    "                for c in node.child:\n",
    "                    self.findleaf(c, leaf)\n",
    "\n",
    "    def findfather(self, node, errormin):\n",
    "        if node.label is not None:\n",
    "            cy = [c.y for c in node.child]\n",
    "            if None not in cy:  \n",
    "                childdata = []\n",
    "                for c in node.child:\n",
    "                    for d in list(c.data):\n",
    "                        childdata.append(d)\n",
    "                # 统计childdata的频值\n",
    "                childcounter = Counter(childdata)\n",
    "\n",
    "                old_child = node.child  \n",
    "                old_label = node.label\n",
    "                old_y = node.y\n",
    "                old_data = node.data\n",
    "\n",
    "                node.label = None  \n",
    "                # 根据奥卡姆剃刀准则，进行简化处理\n",
    "                node.y = childcounter.most_common(1)[0][0]\n",
    "                node.data = childdata\n",
    "                \n",
    "                #再次计算预测误差\n",
    "                error = self.c_error()\n",
    "                # 获得最小的预测误差\n",
    "                if error <= errormin:  \n",
    "                    errormin = error\n",
    "                    return 1\n",
    "                else:\n",
    "                    node.child = old_child  \n",
    "                    node.label = old_label\n",
    "                    node.y = old_y\n",
    "                    node.data = old_data\n",
    "            else:\n",
    "                re = 0\n",
    "                i = 0\n",
    "                while i < len(node.child):\n",
    "                    if_re = self.findfather(node.child[i], errormin)  \n",
    "                    if if_re == 1:\n",
    "                        re = 1\n",
    "                    elif if_re == 2:\n",
    "                        i -= 1\n",
    "                    i += 1\n",
    "                if re:\n",
    "                    return 2\n",
    "        return 0\n",
    "    \n",
    "    # 求模型对训练数据的预测误差\n",
    "    def c_error(self): \n",
    "        leaf = []\n",
    "        # 找到叶子节点\n",
    "        self.findleaf(self.tree, leaf)\n",
    "        # 计算每个特征值下的总数\n",
    "        leafnum = [len(l) for l in leaf]\n",
    "        # 计算每一类的信息熵\n",
    "        ent = [self.calc_ent(l) for l in leaf]\n",
    "        print(\"Ent:\", ent)\n",
    "        # 求偏差alpha*|T|\n",
    "        error = self.alpha*len(leafnum)\n",
    "        # 求损失函数的C(T)值\n",
    "        for l, e in zip(leafnum, ent):\n",
    "            error += l*e\n",
    "        print(\"C(T):\", error)\n",
    "        return error\n",
    "    \n",
    "    # 剪枝函数\n",
    "    def cut(self, alpha=0): \n",
    "        if alpha:\n",
    "            self.alpha = alpha\n",
    "        # 得到预测误差值\n",
    "        errormin = self.c_error()\n",
    "        self.findfather(self.tree, errormin)"
   ]
  },
  {
   "cell_type": "markdown",
   "metadata": {},
   "source": [
    "## 初始化数据集"
   ]
  },
  {
   "cell_type": "code",
   "execution_count": 5,
   "metadata": {},
   "outputs": [],
   "source": [
    "datasets = np.array([['青年', '否', '否', '一般', '否'],\n",
    "               ['青年', '否', '否', '好', '否'],\n",
    "               ['青年', '是', '否', '好', '是'],\n",
    "               ['青年', '是', '是', '一般', '是'],\n",
    "               ['青年', '否', '否', '一般', '否'],\n",
    "               ['中年', '否', '否', '一般', '否'],\n",
    "               ['中年', '否', '否', '好', '否'],\n",
    "               ['中年', '是', '是', '好', '是'],\n",
    "               ['中年', '否', '是', '非常好', '是'],\n",
    "               ['中年', '否', '是', '非常好', '是'],\n",
    "               ['老年', '否', '是', '非常好', '是'],\n",
    "               ['老年', '否', '是', '好', '是'],\n",
    "               ['老年', '是', '否', '好', '是'],\n",
    "               ['老年', '是', '否', '非常好', '是'],\n",
    "               ['老年', '否', '否', '一般', '否']])"
   ]
  },
  {
   "cell_type": "markdown",
   "metadata": {},
   "source": [
    "## 得到训练数据集和预测数据"
   ]
  },
  {
   "cell_type": "code",
   "execution_count": 6,
   "metadata": {},
   "outputs": [],
   "source": [
    "datalabels = np.array(['年龄', '有工作', '有自己的房子', '信贷情况', '类别'])\n",
    "train_data = pd.DataFrame(datasets, columns=datalabels)\n",
    "test_data = ['老年', '否', '否', '一般']"
   ]
  },
  {
   "cell_type": "markdown",
   "metadata": {},
   "source": [
    "## 对训练数据集训练得到决策树"
   ]
  },
  {
   "cell_type": "code",
   "execution_count": 7,
   "metadata": {},
   "outputs": [],
   "source": [
    "dt = DTree(epsilon=0) \n",
    "dt.fit(train_data)"
   ]
  },
  {
   "cell_type": "markdown",
   "metadata": {},
   "source": [
    "## 打印决策树"
   ]
  },
  {
   "cell_type": "code",
   "execution_count": 8,
   "metadata": {},
   "outputs": [
    {
     "name": "stdout",
     "output_type": "stream",
     "text": [
      "DTree:\n",
      "0 (2, None)\n",
      "1 (1, '否')\n",
      "2 (None, '否', '否', 6)\n",
      "2 (None, '是', '是', 3)\n",
      "1 (None, '是', '是', 6)\n",
      "result: 否\n"
     ]
    }
   ],
   "source": [
    "print('DTree:')\n",
    "printnode(dt.tree)\n",
    "y = dt.tree.predict(test_data)\n",
    "print('result:', y)"
   ]
  },
  {
   "cell_type": "markdown",
   "metadata": {},
   "source": [
    "## 进行后剪枝操作"
   ]
  },
  {
   "cell_type": "code",
   "execution_count": 9,
   "metadata": {},
   "outputs": [
    {
     "name": "stdout",
     "output_type": "stream",
     "text": [
      "Ent: [0.0, 0.0, 0.0]\n",
      "C(T): 1.5\n",
      "Ent: [0.9182958340544896, 0.0]\n",
      "C(T): 9.264662506490406\n"
     ]
    }
   ],
   "source": [
    "dt.cut(alpha=0.5)"
   ]
  },
  {
   "cell_type": "code",
   "execution_count": 10,
   "metadata": {},
   "outputs": [
    {
     "name": "stdout",
     "output_type": "stream",
     "text": [
      "DTree:\n",
      "0 (2, None)\n",
      "1 (1, '否')\n",
      "2 (None, '否', '否', 6)\n",
      "2 (None, '是', '是', 3)\n",
      "1 (None, '是', '是', 6)\n",
      "result: 否\n"
     ]
    }
   ],
   "source": [
    "print('DTree:')\n",
    "printnode(dt.tree)\n",
    "y = dt.tree.predict(test_data)\n",
    "print('result:', y)"
   ]
  },
  {
   "cell_type": "markdown",
   "metadata": {},
   "source": [
    "## 剪枝效果"
   ]
  },
  {
   "cell_type": "code",
   "execution_count": 11,
   "metadata": {},
   "outputs": [],
   "source": [
    "datasets1 = np.array([['青年', '否', '否', '一般', '否'],\n",
    "               ['青年', '否', '否', '好', '否'],\n",
    "               ['青年', '是', '否', '好', '是'],\n",
    "               ['青年', '是', '是', '一般', '是'],\n",
    "               ['青年', '否', '否', '一般', '否'],\n",
    "               ['中年', '否', '否', '一般', '否'],\n",
    "               ['中年', '否', '否', '好', '否'],\n",
    "               ['中年', '是', '是', '好', '是'],\n",
    "               ['中年', '否', '是', '非常好', '是'],\n",
    "               ['中年', '否', '是', '非常好', '是'],\n",
    "               ['老年', '否', '是', '非常好', '是'],\n",
    "               ['老年', '否', '是', '好', '是'],\n",
    "               ['老年', '是', '否', '好', '是'],\n",
    "               ['老年', '是', '否', '非常好', '是'],\n",
    "               ['老年', '否', '否', '一般', '否'],\n",
    "               ['青年', '否', '否', '一般', '是']])"
   ]
  },
  {
   "cell_type": "code",
   "execution_count": 12,
   "metadata": {},
   "outputs": [
    {
     "name": "stdout",
     "output_type": "stream",
     "text": [
      "DTree:\n",
      "0 (2, None)\n",
      "1 (1, '否')\n",
      "2 (0, '否')\n",
      "3 (3, '青年')\n",
      "4 (None, '一般', '否', 3)\n",
      "4 (None, '好', '否', 1)\n",
      "3 (None, '中年', '否', 2)\n",
      "3 (None, '老年', '否', 1)\n",
      "2 (None, '是', '是', 3)\n",
      "1 (None, '是', '是', 6)\n",
      "result: 否\n",
      "----------------\n",
      "Ent: [0.9182958340544896, 0.0, 0.0, 0.0, 0.0, 0.0]\n",
      "C(T): 5.754887502163468\n",
      "Ent: [0.8112781244591328, 0.0, 0.0, 0.0, 0.0]\n",
      "C(T): 5.745112497836532\n",
      "Ent: [0.5916727785823275, 0.0, 0.0]\n",
      "C(T): 5.641709450076292\n",
      "Ent: [0.9709505944546686, 0.0]\n",
      "C(T): 10.709505944546686\n",
      "----------------\n",
      "DTree:\n",
      "0 (2, None)\n",
      "1 (1, '否')\n",
      "2 (None, '否', '否', 7)\n",
      "2 (None, '是', '是', 3)\n",
      "1 (None, '是', '是', 6)\n",
      "result: 否\n"
     ]
    }
   ],
   "source": [
    "datalabels = np.array(['年龄', '有工作', '有自己的房子', '信贷情况', '类别'])\n",
    "train_data = pd.DataFrame(datasets1, columns=datalabels)\n",
    "test_data = ['老年', '否', '否', '一般']\n",
    "\n",
    "dt = DTree(epsilon=0) \n",
    "dt.fit(train_data)\n",
    "\n",
    "print('DTree:')\n",
    "printnode(dt.tree)\n",
    "y = dt.tree.predict(test_data)\n",
    "print('result:', y)\n",
    "print('----------------')\n",
    "dt.cut(alpha=0.5)\n",
    "\n",
    "print('----------------')\n",
    "print('DTree:')\n",
    "printnode(dt.tree)\n",
    "y = dt.tree.predict(test_data)\n",
    "print('result:', y)"
   ]
  }
 ],
 "metadata": {
  "kernelspec": {
   "display_name": "Python 3",
   "language": "python",
   "name": "python3"
  },
  "language_info": {
   "codemirror_mode": {
    "name": "ipython",
    "version": 3
   },
   "file_extension": ".py",
   "mimetype": "text/x-python",
   "name": "python",
   "nbconvert_exporter": "python",
   "pygments_lexer": "ipython3",
   "version": "3.7.2"
  },
  "toc": {
   "base_numbering": 1,
   "nav_menu": {},
   "number_sections": false,
   "sideBar": true,
   "skip_h1_title": false,
   "title_cell": "Table of Contents",
   "title_sidebar": "Contents",
   "toc_cell": false,
   "toc_position": {},
   "toc_section_display": true,
   "toc_window_display": false
  }
 },
 "nbformat": 4,
 "nbformat_minor": 2
}
